{
 "cells": [
  {
   "cell_type": "code",
   "execution_count": 1,
   "id": "91ab84c4",
   "metadata": {},
   "outputs": [],
   "source": [
    "import cv2\n",
    "import numpy as np\n",
    "import json\n",
    "from pdf2image import convert_from_path\n",
    "\n",
    "# Convert the PDF file to a list of images\n",
    "pages = convert_from_path(r\"C:\\Users\\sevan\\Jupyter Projects\\IIT-B\\Sanskrit_Text.pdf\")\n",
    "\n",
    "# Initialize the dictionary to store the bounding box coordinates\n",
    "box_dict = {}\n",
    "\n",
    "# Loop through each page and extract the bounding boxes and line images\n",
    "for i, page in enumerate(pages):\n",
    "    # Convert the page image to grayscale\n",
    "    image = cv2.cvtColor(np.array(page), cv2.COLOR_RGB2BGR)\n",
    "    gray = cv2.cvtColor(image, cv2.COLOR_BGR2GRAY)\n",
    "\n",
    "    # Apply thresholding to binarize the image\n",
    "    thresh = cv2.threshold(gray, 0, 255, cv2.THRESH_BINARY_INV + cv2.THRESH_OTSU)[1]\n",
    "\n",
    "    # Get the contours of the text regions\n",
    "    contours, hierarchy = cv2.findContours(thresh, cv2.RETR_TREE, cv2.CHAIN_APPROX_SIMPLE)\n",
    "\n",
    "    # Loop through each contour and extract the bounding box\n",
    "    for j, contour in enumerate(contours):\n",
    "        (x, y, w, h) = cv2.boundingRect(contour)\n",
    "        box_dict[f\"page{i+1}_line{j+1}\"] = {\"top_left\": [x, y], \"top_right\": [x + w, y],\n",
    "                                     \"bottom_left\": [x, y + h], \"bottom_right\": [x + w, y + h]}\n",
    "        # Draw the bounding box on the image\n",
    "        cv2.rectangle(image, (x, y), (x + w, y + h), (0, 255, 0), 2)\n",
    "        \n",
    "        # Crop and save the line image\n",
    "        line_img = image[y:y+h, x:x+w]\n",
    "        cv2.imwrite(f\"page{i+1}_line{j+1}.jpg\", line_img)\n",
    "\n",
    "    # Save the image with bounding boxes\n",
    "    cv2.imwrite(f\"page{i+1}_with_boxes.jpg\", image)\n",
    "\n",
    "# Save the bounding box coordinates as JSON\n",
    "with open(\"bounding_boxes.json\", \"w\") as f:\n",
    "    json.dump(box_dict, f, indent=4)\n"
   ]
  },
  {
   "cell_type": "code",
   "execution_count": null,
   "id": "56f37159",
   "metadata": {},
   "outputs": [],
   "source": []
  }
 ],
 "metadata": {
  "kernelspec": {
   "display_name": "Python 3 (ipykernel)",
   "language": "python",
   "name": "python3"
  },
  "language_info": {
   "codemirror_mode": {
    "name": "ipython",
    "version": 3
   },
   "file_extension": ".py",
   "mimetype": "text/x-python",
   "name": "python",
   "nbconvert_exporter": "python",
   "pygments_lexer": "ipython3",
   "version": "3.10.0"
  }
 },
 "nbformat": 4,
 "nbformat_minor": 5
}
